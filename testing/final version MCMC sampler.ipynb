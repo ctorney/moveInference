{
 "cells": [
  {
   "cell_type": "code",
   "execution_count": 1,
   "metadata": {
    "collapsed": true
   },
   "outputs": [],
   "source": [
    "import random\n",
    "import math\n",
    "%matplotlib inline\n",
    "import numpy as np\n",
    "import matplotlib.pyplot as plt\n",
    "import seaborn as sns\n",
    "import pandas as pd\n",
    "from functools import partial\n"
   ]
  },
  {
   "cell_type": "code",
   "execution_count": 6,
   "metadata": {},
   "outputs": [
    {
     "name": "stdout",
     "output_type": "stream",
     "text": [
      "what's the scale?2\n",
      "what's the shape?5\n",
      "how many steps?100\n",
      "how many tries?1\n",
      "[ 1.12567654  1.90657605  1.99899379  1.07525389  1.95155034  2.07043564\n",
      "  2.26817603  1.81539794  1.34071234  1.88418117  1.85936391  1.91236664\n",
      "  2.19859496  1.62361643  2.5507383   1.90430025  2.32941356  1.08905166\n",
      "  2.39056331  1.34830463  1.3516853   1.66017721  1.56653348  1.9119207\n",
      "  0.97307417  2.06610046  1.5482843   1.9563075   1.46300661  2.18242625\n",
      "  1.69299223  2.19023058  1.93064505  1.41113329  2.10985439  1.47760256\n",
      "  1.7632932   1.90230572  2.51985574  1.49626194  2.25297042  1.75112141\n",
      "  1.44534352  1.65870523  2.64052065  1.95105526  1.36744911  1.7758102\n",
      "  1.9271655   2.4967553   1.66959406  2.06807436  1.69250425  1.57856146\n",
      "  1.86693077  1.74556318  1.818002    2.23081919  1.49115896  1.91636562\n",
      "  1.64014814  2.2421055   2.30793158  1.73504835  2.66308832  1.64279875\n",
      "  1.93730566  0.69824258  2.06830154  1.12060227  1.86481943  1.68665873\n",
      "  2.18350588  0.91029256  2.36970852  1.49043567  1.39170234  2.02978335\n",
      "  1.58024858  1.84148278  2.21174273  1.76716786  2.02068687  1.49012846\n",
      "  1.82800791  1.78568421  1.37320964  1.20309298  2.42539393  2.42918929\n",
      "  2.00377569  1.66376911  0.94596059  2.45472612  1.74023072  2.06833012\n",
      "  1.51958635  1.96121335  2.10758906  1.73970266]\n"
     ]
    }
   ],
   "source": [
    "\n",
    "def rw2(n):\n",
    "    x,y=0,0\n",
    "    distance=[]\n",
    "    for i in range(1,n+1):\n",
    "            r=random.weibullvariate(alpha,beta) # step size r\n",
    "            theta=2.*math.pi*random.random()\n",
    "            x +=r*math.cos(theta)\n",
    "            y +=r*math.sin(theta)\n",
    "            distance.append(r)# save the distances r for the mcmc sampler\n",
    "    return(np.array(distance))# depending what do you want to do, either save the pairs, or save the distances r  between points\n",
    "    #return(x,y)\n",
    "    \n",
    "alpha=int(input(\"what's the scale?\"))\n",
    "beta=int(input(\"what's the shape?\"))\n",
    "n=int(input(\"how many steps?\"))\n",
    "tries=int(input(\"how many tries?\"))#  put tries=1  in order to properly save the list distance\n",
    "for i in range(tries):\n",
    "    print (rw2(n))"
   ]
  },
  {
   "cell_type": "code",
   "execution_count": 7,
   "metadata": {
    "collapsed": true
   },
   "outputs": [],
   "source": [
    "def hop(rw2, start=1, niter=1000):\n",
    "    pos = start\n",
    "    pop = rw2[pos]\n",
    "    thetas = np.zeros(niter+1, dtype='int')\n",
    "    thetas[0] = pos\n",
    "    for i in range(niter):\n",
    "        # generate sample from proposal distribution\n",
    "        k = np.random.choice([-1, 1], 1)\n",
    "        next_pos = pos + k\n",
    "        # evaluate unnormalized target distribution at proposed position\n",
    "        next_pop = rw2[next_pos]\n",
    "        # calculate acceptance probability\n",
    "        p = min(1, next_pop/pop)\n",
    "        # use uniform random to decide accept/reject proposal\n",
    "        if np.random.random() < p:\n",
    "            pos = next_pos\n",
    "            pop = next_pop\n",
    "        thetas[i+1] = pos\n",
    "    return thetas"
   ]
  },
  {
   "cell_type": "code",
   "execution_count": 4,
   "metadata": {},
   "outputs": [
    {
     "data": {
      "text/plain": [
       "<function __main__.hop>"
      ]
     },
     "execution_count": 4,
     "metadata": {},
     "output_type": "execute_result"
    }
   ],
   "source": [
    "hop"
   ]
  },
  {
   "cell_type": "code",
   "execution_count": 13,
   "metadata": {},
   "outputs": [],
   "source": [
    "thetas = hop(rw2(100), start=1, niter=10000)"
   ]
  },
  {
   "cell_type": "code",
   "execution_count": 16,
   "metadata": {},
   "outputs": [
    {
     "data": {
      "text/plain": [
       "array([ 2.46859523,  2.03819095,  1.58566297,  2.54882807,  2.07506881,\n",
       "        2.34711922,  2.23032983,  2.09989194,  1.51931845,  1.9892376 ,\n",
       "        2.36185377,  1.57963062,  2.66758373,  1.6706808 ,  1.52497026,\n",
       "        2.18890632,  1.76410936,  2.02919705,  1.70328217,  1.97561507,\n",
       "        1.32195352,  1.12344422,  2.07334206,  1.70665438,  1.81632083,\n",
       "        1.90896344,  1.68685171,  1.10944634,  2.35945306,  1.51659291,\n",
       "        1.32342437,  1.3664861 ,  1.87729025,  2.04892232,  2.24442554,\n",
       "        2.51605312,  1.81802746,  2.66224493,  1.95617431,  1.46838945,\n",
       "        2.49555565,  1.84774513,  2.09435348,  2.46601756,  2.00233887,\n",
       "        2.28063888,  1.86888985,  2.10261782,  2.61296684,  2.45064224,\n",
       "        1.51073553,  2.45252865,  1.18316916,  1.045711  ,  1.80229684,\n",
       "        2.0966543 ,  1.7168818 ,  1.74109319,  1.38881042,  1.91877561,\n",
       "        1.49619943,  1.64294059,  1.48207479,  2.03077577,  1.36560525,\n",
       "        2.46893987,  2.2401639 ,  1.50850269,  2.04678073,  2.05253347,\n",
       "        1.51924905,  1.41675296,  1.48717792,  1.78894047,  2.29233021,\n",
       "        1.76920288,  2.01818067,  2.47412352,  2.17242456,  1.85056359,\n",
       "        1.51222161,  2.42320505,  1.87803358,  1.52130038,  2.17482598,\n",
       "        1.20449961,  2.53502201,  2.74724056,  2.08324196,  1.56352903,\n",
       "        1.99367758,  2.30673494,  1.78407862,  1.96146535,  1.79501238,\n",
       "        2.19571231,  2.1947672 ,  1.75134522,  1.55895965,  1.81725232])"
      ]
     },
     "execution_count": 16,
     "metadata": {},
     "output_type": "execute_result"
    }
   ],
   "source": [
    "rw2(100)# one might modify the function to save alpha and beta inside the function"
   ]
  },
  {
   "cell_type": "code",
   "execution_count": null,
   "metadata": {
    "collapsed": true
   },
   "outputs": [],
   "source": []
  }
 ],
 "metadata": {
  "kernelspec": {
   "display_name": "Python 3",
   "language": "python",
   "name": "python3"
  },
  "language_info": {
   "codemirror_mode": {
    "name": "ipython",
    "version": 3
   },
   "file_extension": ".py",
   "mimetype": "text/x-python",
   "name": "python",
   "nbconvert_exporter": "python",
   "pygments_lexer": "ipython3",
   "version": "3.6.3"
  }
 },
 "nbformat": 4,
 "nbformat_minor": 2
}
